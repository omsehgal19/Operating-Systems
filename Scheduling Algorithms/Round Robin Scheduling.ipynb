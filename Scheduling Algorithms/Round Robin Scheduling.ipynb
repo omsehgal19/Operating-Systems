{
 "cells": [
  {
   "cell_type": "code",
   "execution_count": 1,
   "metadata": {},
   "outputs": [
    {
     "name": "stdout",
     "output_type": "stream",
     "text": [
      "Processes    Burst Time     Waiting Time    Turn-Around Time\n",
      "  1 \t\t 12 \t\t 19 \t\t 31\n",
      "  2 \t\t 9 \t\t 18 \t\t 27\n",
      "  3 \t\t 19 \t\t 21 \t\t 40\n",
      "\n",
      "Average waiting time = 19.33333 \n",
      "Average turn around time = 32.66667 \n"
     ]
    }
   ],
   "source": [
    "def findWaitingTime(processes, n, bt, wt, quantum):  \n",
    "    rem_bt = [0] * n   \n",
    "    for i in range(n):  \n",
    "        rem_bt[i] = bt[i] \n",
    "    t = 0    \n",
    "    while(1): \n",
    "        done = True\n",
    "        for i in range(n):   \n",
    "            if (rem_bt[i] > 0) : \n",
    "                done = False \n",
    "                if (rem_bt[i] > quantum) : \n",
    "                    t += quantum  \n",
    "                    rem_bt[i] -= quantum  \n",
    "                else: \n",
    "                    t = t + rem_bt[i]  \n",
    "                    wt[i] = t - bt[i]   \n",
    "                    rem_bt[i] = 0\n",
    "        if (done == True): \n",
    "            break\n",
    "def findTurnAroundTime(processes, n, bt, wt, tat):  \n",
    "    for i in range(n): \n",
    "        tat[i] = bt[i] + wt[i]  \n",
    "def findavgTime(processes, n, bt, quantum):  \n",
    "    wt = [0] * n \n",
    "    tat = [0] * n   \n",
    "    findWaitingTime(processes, n, bt, wt, quantum)   \n",
    "    findTurnAroundTime(processes, n, bt, wt, tat)    \n",
    "    print(\"Processes    Burst Time     Waiting\", \"Time    Turn-Around Time\") \n",
    "    total_wt = 0\n",
    "    total_tat = 0\n",
    "    for i in range(n): \n",
    "        total_wt = total_wt + wt[i]  \n",
    "        total_tat = total_tat + tat[i]  \n",
    "        print(\" \", i + 1, \"\\t\\t\", bt[i],  \n",
    "              \"\\t\\t\", wt[i], \"\\t\\t\", tat[i]) \n",
    "  \n",
    "    print(\"\\nAverage waiting time = %.5f \"%(total_wt /n) ) \n",
    "    print(\"Average turn around time = %.5f \"% (total_tat / n))  \n",
    "if __name__ ==\"__main__\": \n",
    " \n",
    "    proc = [1, 2, 3] \n",
    "    n = 3\n",
    "    \n",
    "    burst_time = [12, 9, 19] \n",
    "    quantum = 2; \n",
    "    findavgTime(proc, n, burst_time, quantum)"
   ]
  },
  {
   "cell_type": "code",
   "execution_count": null,
   "metadata": {},
   "outputs": [],
   "source": []
  }
 ],
 "metadata": {
  "kernelspec": {
   "display_name": "Python 3",
   "language": "python",
   "name": "python3"
  },
  "language_info": {
   "codemirror_mode": {
    "name": "ipython",
    "version": 3
   },
   "file_extension": ".py",
   "mimetype": "text/x-python",
   "name": "python",
   "nbconvert_exporter": "python",
   "pygments_lexer": "ipython3",
   "version": "3.8.3"
  }
 },
 "nbformat": 4,
 "nbformat_minor": 4
}
