{
 "cells": [
  {
   "cell_type": "markdown",
   "metadata": {},
   "source": [
    "# FCFS(Non-Preemptive)"
   ]
  },
  {
   "cell_type": "code",
   "execution_count": 1,
   "metadata": {},
   "outputs": [
    {
     "name": "stdout",
     "output_type": "stream",
     "text": [
      "Enter the number of process: \n",
      "3\n",
      "Enter the burst time of the processes: \n",
      "\n",
      "3 6 8\n",
      "\n",
      "\n",
      "Process\t  Burst Time\t  Waiting Time\t  Turn Around Time\n",
      "0\t\t3\t\t0\t\t3\n",
      "\n",
      "\n",
      "1\t\t6\t\t3\t\t9\n",
      "\n",
      "\n",
      "2\t\t8\t\t9\t\t17\n",
      "\n",
      "\n",
      "Average Waiting time is: 4.0\n",
      "Average Turn Arount Time is: 8.666666666666666\n"
     ]
    }
   ],
   "source": [
    "bt=[]\n",
    "print(\"Enter the number of process: \")\n",
    "n=int(input())\n",
    "print(\"Enter the burst time of the processes: \\n\")\n",
    "bt=list(map(int, input().split()))\n",
    "wt=[]\n",
    "avgwt=0\n",
    "tat=[]\n",
    "avgtat=0\n",
    "wt.insert(0,0)\n",
    "tat.insert(0,bt[0])\n",
    "for i in range(1,len(bt)):\n",
    "    wt.insert(i,wt[i-1]+bt[i-1])\n",
    "    tat.insert(i,wt[i]+bt[i])\n",
    "    avgwt+=wt[i]\n",
    "    avgtat+=tat[i]\n",
    "avgwt=float(avgwt)/n\n",
    "avgtat=float(avgtat)/n\n",
    "print(\"\\n\")\n",
    "print(\"Process\\t  Burst Time\\t  Waiting Time\\t  Turn Around Time\")\n",
    "for i in range(0,n):\n",
    "    print(str(i)+\"\\t\\t\"+str(bt[i])+\"\\t\\t\"+str(wt[i])+\"\\t\\t\"+str(tat[i]))\n",
    "    print(\"\\n\")\n",
    "print(\"Average Waiting time is: \"+str(avgwt))\n",
    "print(\"Average Turn Arount Time is: \"+str(avgtat))"
   ]
  },
  {
   "cell_type": "markdown",
   "metadata": {},
   "source": [
    "# FCFS(Preemptive)"
   ]
  },
  {
   "cell_type": "code",
   "execution_count": 3,
   "metadata": {},
   "outputs": [
    {
     "name": "stdout",
     "output_type": "stream",
     "text": [
      "Enter the number of process: \n",
      "3\n",
      "Enter the burst time of the processes: \n",
      "\n",
      "3 5 7\n",
      "Enter the arival time of the processes: \n",
      "\n",
      "0 1 2\n",
      "Processes   Burst Time   Arrival Time     Waiting Time   Turn-Around Time  Completion Time \n",
      "\n",
      "  1 \t\t 3 \t\t 0 \t\t 0 \t\t  3 \t\t  3\n",
      "  2 \t\t 5 \t\t 1 \t\t 2 \t\t  7 \t\t  8\n",
      "  3 \t\t 7 \t\t 2 \t\t 6 \t\t  13 \t\t  15\n",
      "Average waiting time = 2.66667 \n",
      "\n",
      "Average turn around time =  7.666666666666667\n"
     ]
    }
   ],
   "source": [
    "def findWaitingTime(processes, n, bt, wt, at):  \n",
    "    service_time = [0] * n  \n",
    "    service_time[0] = 0\n",
    "    wt[0] = 0\n",
    "  \n",
    "    # calculating waiting time  \n",
    "    for i in range(1, n):  \n",
    "          \n",
    "        # Add burst time of previous processes  \n",
    "        service_time[i] = (service_time[i - 1] +\n",
    "                                     bt[i - 1])  \n",
    "  \n",
    "        # Find waiting time for current \n",
    "        # process = sum - at[i]  \n",
    "        wt[i] = service_time[i] - at[i]  \n",
    "  \n",
    "        # If waiting time for a process is in  \n",
    "        # negative that means it is already  \n",
    "        # in the ready queue before CPU becomes  \n",
    "        # idle so its waiting time is 0  \n",
    "        if (wt[i] < 0): \n",
    "            wt[i] = 0\n",
    "      \n",
    "# Function to calculate turn around time  \n",
    "def findTurnAroundTime(processes, n, bt, wt, tat):  \n",
    "      \n",
    "    # Calculating turnaround time by \n",
    "    # adding bt[i] + wt[i]  \n",
    "    for i in range(n): \n",
    "        tat[i] = bt[i] + wt[i]  \n",
    "  \n",
    "  \n",
    "# Function to calculate average waiting  \n",
    "# and turn-around times.  \n",
    "def findavgTime(processes, n, bt, at):  \n",
    "    wt = [0] * n \n",
    "    tat = [0] * n  \n",
    "  \n",
    "    # Function to find waiting time \n",
    "    # of all processes  \n",
    "    findWaitingTime(processes, n, bt, wt, at)  \n",
    "  \n",
    "    # Function to find turn around time for \n",
    "    # all processes  \n",
    "    findTurnAroundTime(processes, n, bt, wt, tat)  \n",
    "  \n",
    "    # Display processes along with all details  \n",
    "    print(\"Processes   Burst Time   Arrival Time     Waiting\",  \n",
    "          \"Time   Turn-Around Time  Completion Time \\n\") \n",
    "    total_wt = 0\n",
    "    total_tat = 0\n",
    "    for i in range(n): \n",
    "  \n",
    "        total_wt = total_wt + wt[i]  \n",
    "        total_tat = total_tat + tat[i]  \n",
    "        compl_time = tat[i] + at[i]  \n",
    "        print(\" \", i + 1, \"\\t\\t\", bt[i], \"\\t\\t\", at[i],  \n",
    "              \"\\t\\t\", wt[i], \"\\t\\t \", tat[i], \"\\t\\t \", compl_time)  \n",
    "  \n",
    "    print(\"Average waiting time = %.5f \"%(total_wt /n)) \n",
    "    print(\"\\nAverage turn around time = \", total_tat / n)  \n",
    "  \n",
    "     \n",
    "\n",
    "print(\"Enter the number of process: \")\n",
    "n=int(input())\n",
    "print(\"Enter the burst time of the processes: \\n\")\n",
    "burst_time=list(map(int, input().split()))\n",
    "print(\"Enter the arival time of the processes: \\n\")\n",
    "arrival_time=list(map(int, input().split()))\n",
    "    \n",
    "findavgTime(processes, n, burst_time, \n",
    "                            arrival_time) "
   ]
  },
  {
   "cell_type": "code",
   "execution_count": null,
   "metadata": {},
   "outputs": [],
   "source": []
  }
 ],
 "metadata": {
  "kernelspec": {
   "display_name": "Python 3",
   "language": "python",
   "name": "python3"
  },
  "language_info": {
   "codemirror_mode": {
    "name": "ipython",
    "version": 3
   },
   "file_extension": ".py",
   "mimetype": "text/x-python",
   "name": "python",
   "nbconvert_exporter": "python",
   "pygments_lexer": "ipython3",
   "version": "3.8.3"
  }
 },
 "nbformat": 4,
 "nbformat_minor": 4
}
