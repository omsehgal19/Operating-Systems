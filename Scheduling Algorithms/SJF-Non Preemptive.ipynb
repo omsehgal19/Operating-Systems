{
 "cells": [
  {
   "cell_type": "markdown",
   "metadata": {},
   "source": [
    "# Shortest Job First(Non-Preemptive)"
   ]
  },
  {
   "cell_type": "code",
   "execution_count": 1,
   "metadata": {},
   "outputs": [
    {
     "name": "stdout",
     "output_type": "stream",
     "text": [
      "Enter the number of process: \n",
      "3\n",
      "Enter the burst time of the processes: \n",
      "\n",
      "1 3 5\n",
      "\n",
      "\n",
      "Process\t  Burst Time\t  Waiting Time\t  Turn Around Time\n",
      "1\t\t1\t\t0\t\t1\n",
      "\n",
      "\n",
      "2\t\t3\t\t1\t\t4\n",
      "\n",
      "\n",
      "3\t\t5\t\t4\t\t9\n",
      "\n",
      "\n",
      "Average Waiting time is: 1.6666666666666667\n",
      "Average Turn Arount Time is: 4.333333333333333\n"
     ]
    }
   ],
   "source": [
    "bt=[]    \n",
    "print(\"Enter the number of process: \")\n",
    "n=int(input())\n",
    "processes=[]\n",
    "for i in range(0,n):\n",
    "    processes.insert(i,i+1)\n",
    "print(\"Enter the burst time of the processes: \\n\")\n",
    "bt=list(map(int, input().split()))\n",
    "\n",
    "for i in range(0,len(bt)-1):  \n",
    "    for j in range(0,len(bt)-i-1):\n",
    "        if(bt[j]>bt[j+1]):\n",
    "            temp=bt[j]\n",
    "            bt[j]=bt[j+1]\n",
    "            bt[j+1]=temp\n",
    "            temp=processes[j]\n",
    "            processes[j]=processes[j+1]\n",
    "            processes[j+1]=temp\n",
    "            \n",
    "wt=[]    #wt stands for waiting time\n",
    "avgwt=0  #average of waiting time\n",
    "tat=[]    #tat stands for turnaround time\n",
    "avgtat=0   #average of total turnaround time\n",
    "wt.insert(0,0)\n",
    "tat.insert(0,bt[0])\n",
    "for i in range(1,len(bt)):  \n",
    " wt.insert(i,wt[i-1]+bt[i-1])\n",
    " tat.insert(i,wt[i]+bt[i])\n",
    " avgwt+=wt[i]\n",
    " avgtat+=tat[i]\n",
    "avgwt=float(avgwt)/n\n",
    "avgtat=float(avgtat)/n\n",
    "print(\"\\n\")\n",
    "print(\"Process\\t  Burst Time\\t  Waiting Time\\t  Turn Around Time\")\n",
    "for i in range(0,n):\n",
    " print(str(processes[i])+\"\\t\\t\"+str(bt[i])+\"\\t\\t\"+str(wt[i])+\"\\t\\t\"+str(tat[i]))\n",
    " print(\"\\n\")\n",
    "print(\"Average Waiting time is: \"+str(avgwt))\n",
    "print(\"Average Turn Arount Time is: \"+str(avgtat))"
   ]
  }
 ],
 "metadata": {
  "kernelspec": {
   "display_name": "Python 3",
   "language": "python",
   "name": "python3"
  },
  "language_info": {
   "codemirror_mode": {
    "name": "ipython",
    "version": 3
   },
   "file_extension": ".py",
   "mimetype": "text/x-python",
   "name": "python",
   "nbconvert_exporter": "python",
   "pygments_lexer": "ipython3",
   "version": "3.8.3"
  }
 },
 "nbformat": 4,
 "nbformat_minor": 4
}
