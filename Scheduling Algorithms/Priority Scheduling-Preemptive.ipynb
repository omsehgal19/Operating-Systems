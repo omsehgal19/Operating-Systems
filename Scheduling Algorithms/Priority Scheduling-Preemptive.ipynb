{
 "cells": [
  {
   "cell_type": "code",
   "execution_count": 1,
   "metadata": {},
   "outputs": [],
   "source": [
    "totalprocess = 5\n",
    "proc = [] \n",
    "for i in range(5): \n",
    "    l = [] \n",
    "    for j in range(4): \n",
    "        l.append(0) \n",
    "    proc.append(l)"
   ]
  },
  {
   "cell_type": "code",
   "execution_count": 2,
   "metadata": {},
   "outputs": [],
   "source": [
    "def get_waiting_time( wt):  \n",
    "    \n",
    "    service = [0] * 5  \n",
    "    service[0] = 0\n",
    "    wt[0] = 0\n",
    "  \n",
    "    for i in range(1, totalprocess):  \n",
    "        service[i] = proc[i - 1][1] + service[i - 1]  \n",
    "        wt[i] = service[i] - proc[i][0] + 1\n",
    "        \n",
    "        if(wt[i] < 0) :      \n",
    "            wt[i] = 0"
   ]
  },
  {
   "cell_type": "code",
   "execution_count": 3,
   "metadata": {},
   "outputs": [],
   "source": [
    "def get_tat_time(tat, wt):    \n",
    "    for i in range(totalprocess): \n",
    "        tat[i] = proc[i][1] + wt[i]   "
   ]
  },
  {
   "cell_type": "code",
   "execution_count": 4,
   "metadata": {},
   "outputs": [],
   "source": [
    "def findgc(): \n",
    "    wt = [0] * 5\n",
    "    tat = [0] * 5\n",
    "    wavg = 0\n",
    "    tavg = 0    \n",
    "    get_waiting_time(wt)  \n",
    "    get_tat_time(tat, wt)   \n",
    "    stime = [0] * 5\n",
    "    ctime = [0] * 5\n",
    "    stime[0] = 1\n",
    "    ctime[0] = stime[0] + tat[0]     \n",
    "    for i in range(1, totalprocess):  \n",
    "        stime[i] = ctime[i - 1]  \n",
    "        ctime[i] = stime[i] + tat[i] - wt[i]    \n",
    "    print(\"Process_no\\tStart_time\\tComplete_time\", \n",
    "               \"\\tTurn_Around_Time\\tWaiting_Time\")     \n",
    "    for i in range(totalprocess): \n",
    "        wavg += wt[i]  \n",
    "        tavg += tat[i]            \n",
    "        print(proc[i][3], \"\\t\\t\", stime[i],  \n",
    "                         \"\\t\\t\", end = \" \") \n",
    "        print(ctime[i], \"\\t\\t\", tat[i], \"\\t\\t\\t\", wt[i])          \n",
    "    print(\"Average waiting time is : \", end = \" \") \n",
    "    print(wavg / totalprocess) \n",
    "    print(\"average turnaround time : \" , end = \" \") \n",
    "    print(tavg / totalprocess) "
   ]
  },
  {
   "cell_type": "code",
   "execution_count": 5,
   "metadata": {},
   "outputs": [
    {
     "name": "stdout",
     "output_type": "stream",
     "text": [
      "Process_no\tStart_time\tComplete_time \tTurn_Around_Time\tWaiting_Time\n",
      "1 \t\t 1 \t\t 9 \t\t 8 \t\t\t 0\n",
      "2 \t\t 9 \t\t 12 \t\t 10 \t\t\t 7\n",
      "3 \t\t 12 \t\t 16 \t\t 13 \t\t\t 9\n",
      "4 \t\t 16 \t\t 25 \t\t 21 \t\t\t 12\n",
      "5 \t\t 25 \t\t 39 \t\t 34 \t\t\t 20\n",
      "Average waiting time is :  9.6\n",
      "average turnaround time :  17.2\n"
     ]
    }
   ],
   "source": [
    "if __name__ ==\"__main__\": \n",
    "    arrivaltime = [1, 2, 3, 4, 5] \n",
    "    bursttime = [8, 3, 4, 9, 14] \n",
    "    priority = [7, 1, 3, 9, 5]        \n",
    "    for i in range(totalprocess):    \n",
    "        proc[i][0] = arrivaltime[i]  \n",
    "        proc[i][1] = bursttime[i]  \n",
    "        proc[i][2] = priority[i]  \n",
    "        proc[i][3] = i + 1  \n",
    "    proc = sorted (proc, key = lambda x:x[2]) \n",
    "    proc = sorted (proc)   \n",
    "    findgc() "
   ]
  },
  {
   "cell_type": "code",
   "execution_count": null,
   "metadata": {},
   "outputs": [],
   "source": []
  }
 ],
 "metadata": {
  "kernelspec": {
   "display_name": "Python 3",
   "language": "python",
   "name": "python3"
  },
  "language_info": {
   "codemirror_mode": {
    "name": "ipython",
    "version": 3
   },
   "file_extension": ".py",
   "mimetype": "text/x-python",
   "name": "python",
   "nbconvert_exporter": "python",
   "pygments_lexer": "ipython3",
   "version": "3.8.3"
  }
 },
 "nbformat": 4,
 "nbformat_minor": 4
}
