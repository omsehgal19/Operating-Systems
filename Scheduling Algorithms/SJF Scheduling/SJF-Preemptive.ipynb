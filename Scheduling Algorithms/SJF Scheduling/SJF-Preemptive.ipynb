{
 "cells": [
  {
   "cell_type": "code",
   "execution_count": 1,
   "metadata": {},
   "outputs": [
    {
     "name": "stdout",
     "output_type": "stream",
     "text": [
      "Processes    Burst Time     Waiting Time     Turn-Around Time\n",
      "  1 \t\t 7 \t\t 1 \t\t 8\n",
      "  3 \t\t 5 \t\t 3 \t\t 8\n",
      "  2 \t\t 4 \t\t 0 \t\t 4\n",
      "  1 \t\t 6 \t\t 9 \t\t 15\n",
      "\n",
      "Average waiting time = 3.25000 \n",
      "Average turn around time =  8.75\n"
     ]
    }
   ],
   "source": [
    "def findWaitingTime(processes, n, wt):  \n",
    "    rt = [0] * n \n",
    "    for i in range(n):  \n",
    "        rt[i] = processes[i][1] \n",
    "    complete = 0\n",
    "    t = 0\n",
    "    minm = 999999999\n",
    "    short = 0\n",
    "    check = False    \n",
    "    while (complete != n):            \n",
    "        for j in range(n): \n",
    "            if ((processes[j][2] <= t) and \n",
    "                (rt[j] < minm) and rt[j] > 0): \n",
    "                minm = rt[j] \n",
    "                short = j \n",
    "                check = True\n",
    "        if (check == False): \n",
    "            t += 1\n",
    "            continue\n",
    "        rt[short] -= 1\n",
    "        minm = rt[short]  \n",
    "        if (minm == 0):  \n",
    "            minm = 999999999\n",
    "        if (rt[short] == 0):  \n",
    "            complete += 1\n",
    "            check = False\n",
    "            fint = t + 1\n",
    "            wt[short] = (fint - proc[short][1] -    \n",
    "                                proc[short][2])   \n",
    "            if (wt[short] < 0): \n",
    "                wt[short] = 0\n",
    "        t += 1   \n",
    "def findTurnAroundTime(processes, n, wt, tat):  \n",
    "      \n",
    "    # Calculating turnaround time  \n",
    "    for i in range(n): \n",
    "        tat[i] = processes[i][1] + wt[i]   \n",
    "def findavgTime(processes, n):  \n",
    "    wt = [0] * n \n",
    "    tat = [0] * n  \n",
    "  \n",
    "    # Function to find waiting time   \n",
    "    findWaitingTime(processes, n, wt)    \n",
    "    # Function to find turn around time \n",
    "    findTurnAroundTime(processes, n, wt, tat)    \n",
    "    # Display processes\n",
    "    print(\"Processes    Burst Time     Waiting\",  \n",
    "                    \"Time     Turn-Around Time\") \n",
    "    total_wt = 0\n",
    "    total_tat = 0\n",
    "    for i in range(n):   \n",
    "        total_wt = total_wt + wt[i]  \n",
    "        total_tat = total_tat + tat[i]  \n",
    "        print(\" \", processes[i][0], \"\\t\\t\",  \n",
    "                   processes[i][1], \"\\t\\t\",  \n",
    "                   wt[i], \"\\t\\t\", tat[i])   \n",
    "    print(\"\\nAverage waiting time = %.5f \"%(total_wt /n) ) \n",
    "    print(\"Average turn around time = \", total_tat / n)  \n",
    "      \n",
    "proc = [[1, 7, 4], [3, 5, 9], [2, 4, 1], [1, 6, 8]] \n",
    "n = 4\n",
    "findavgTime(proc, n) "
   ]
  },
  {
   "cell_type": "code",
   "execution_count": null,
   "metadata": {},
   "outputs": [],
   "source": []
  }
 ],
 "metadata": {
  "kernelspec": {
   "display_name": "Python 3",
   "language": "python",
   "name": "python3"
  },
  "language_info": {
   "codemirror_mode": {
    "name": "ipython",
    "version": 3
   },
   "file_extension": ".py",
   "mimetype": "text/x-python",
   "name": "python",
   "nbconvert_exporter": "python",
   "pygments_lexer": "ipython3",
   "version": "3.8.3"
  }
 },
 "nbformat": 4,
 "nbformat_minor": 4
}
