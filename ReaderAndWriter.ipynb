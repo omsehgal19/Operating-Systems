{
 "cells": [
  {
   "cell_type": "code",
   "execution_count": 1,
   "metadata": {},
   "outputs": [
    {
     "name": "stdout",
     "output_type": "stream",
     "text": [
      "Reading.....\n",
      "Shared Data: 0\n",
      "\n",
      "Writing.....\n",
      "Writer is Releasing the lock!\n",
      "\n",
      "Writing.....\n",
      "Writer is Releasing the lock!\n",
      "\n",
      "Reading.....\n",
      "Reading.....Shared Data: 0\n",
      "\n",
      "Reading.....\n",
      "Shared Data: 0\n",
      "\n",
      "\n",
      "Writing.....\n",
      "Writer is Releasing the lock!\n",
      "\n",
      "Writing.....\n",
      "Writer is Releasing the lock!\n",
      "\n",
      "Shared Data:Reading..... \n",
      "Shared Data: 0\n",
      "\n",
      "0\n",
      "\n",
      "Writing.....\n",
      "Writer is Releasing the lock!\n",
      "\n"
     ]
    }
   ],
   "source": [
    "import threading as thread\n",
    "import random\n",
    "def wait(v):\n",
    "    v=v-1\n",
    "    return v\n",
    "def signal(v):\n",
    "    v=v+1\n",
    "    return v\n",
    "global x\n",
    "x = 0\n",
    "lock = wait(x)\n",
    "def Reader():\n",
    "    global x\n",
    "    print('Reading.....')\n",
    "    wait(x)    \n",
    "    print('Shared Data:', x)\n",
    "    signal(x)\n",
    "    print()\n",
    "def Writer():\n",
    "    global x\n",
    "    print('Writing.....')\n",
    "    wait(x)                    \n",
    "    print('Writer is Releasing the lock!')\n",
    "    signal(x)   \n",
    "    print()\n",
    "if __name__ == '__main__':\n",
    "    for i in range(0, 10):\n",
    "        randomNumber = random.randint(0, 100)   #Generate a Random number between 0 to 100\n",
    "        if(randomNumber > 50):\n",
    "            Thread1 = thread.Thread(target = Reader)\n",
    "            Thread1.start()\n",
    "        else:\n",
    "            Thread2 = thread.Thread(target = Writer)\n",
    "            Thread2.start()\n",
    "\n",
    "Thread1.join()\n",
    "Thread2.join()"
   ]
  },
  {
   "cell_type": "code",
   "execution_count": null,
   "metadata": {},
   "outputs": [],
   "source": []
  }
 ],
 "metadata": {
  "kernelspec": {
   "display_name": "Python 3",
   "language": "python",
   "name": "python3"
  },
  "language_info": {
   "codemirror_mode": {
    "name": "ipython",
    "version": 3
   },
   "file_extension": ".py",
   "mimetype": "text/x-python",
   "name": "python",
   "nbconvert_exporter": "python",
   "pygments_lexer": "ipython3",
   "version": "3.8.3"
  }
 },
 "nbformat": 4,
 "nbformat_minor": 4
}
