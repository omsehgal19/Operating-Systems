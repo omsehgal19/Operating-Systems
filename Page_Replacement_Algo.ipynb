{
 "cells": [
  {
   "cell_type": "markdown",
   "metadata": {},
   "source": [
    "# FIFO:"
   ]
  },
  {
   "cell_type": "code",
   "execution_count": 22,
   "metadata": {},
   "outputs": [
    {
     "name": "stdout",
     "output_type": "stream",
     "text": [
      "Enter page reference: 7 0 1 2 0 3 0 4 2 3 0 3 2\n",
      "Enter window size: 4\n",
      "7\n"
     ]
    }
   ],
   "source": [
    "from queue import Queue  \n",
    "def pageFaults(pages, n, capacity):  \n",
    "    s = set()   \n",
    "    indexes = Queue()    \n",
    "    page_faults = 0\n",
    "    for i in range(n): \n",
    "        if (len(s) < capacity):\n",
    "            if (pages[i] not in s): \n",
    "                s.add(pages[i])    \n",
    "                page_faults += 1\n",
    "                indexes.put(pages[i])  \n",
    "        else: \n",
    "            if (pages[i] not in s):  \n",
    "                val = indexes.queue[0]  \n",
    "                indexes.get()   \n",
    "                s.remove(val)    \n",
    "                s.add(pages[i])  \n",
    "                indexes.put(pages[i])    \n",
    "                page_faults += 1\n",
    "    return page_faults   \n",
    "if __name__ == '__main__': \n",
    "    pages = input(\"Enter page reference: \").split()\n",
    "    n = len(pages)  \n",
    "    capacity = int(input(\"Enter window size: \"))\n",
    "    print(pageFaults(pages, n, capacity)) \n"
   ]
  },
  {
   "cell_type": "markdown",
   "metadata": {},
   "source": [
    "# LRU:"
   ]
  },
  {
   "cell_type": "code",
   "execution_count": 24,
   "metadata": {},
   "outputs": [
    {
     "name": "stdout",
     "output_type": "stream",
     "text": [
      "Enter reference window size: 4\n",
      "Enter page reference: 7 0 1 2 0 3 0 4 2 3 0 3 2\n",
      "Page Faults:  6\n"
     ]
    }
   ],
   "source": [
    "capacity = int(input(\"Enter reference window size: \"))\n",
    "processList = input(\"Enter page reference: \").split()\n",
    "s = []\n",
    "pageFaults = 0\n",
    "for i in processList: \n",
    "        if i not in s:\n",
    "            if (len(s) == capacity): \n",
    "                s.remove(s[0])    \n",
    "                s.append(i)   \n",
    "            else: \n",
    "                s.append(i)\n",
    "            pageFaults += 1\n",
    "        else:\n",
    "            s.remove(i)\n",
    "            s.append(i)\n",
    "print(\"Page Faults: \", pageFaults)"
   ]
  },
  {
   "cell_type": "markdown",
   "metadata": {},
   "source": [
    "# OPTIMAL:"
   ]
  },
  {
   "cell_type": "code",
   "execution_count": 25,
   "metadata": {},
   "outputs": [
    {
     "name": "stdout",
     "output_type": "stream",
     "text": [
      "Enter reference window size: 3\n",
      "Enter page reference: 3 2 1 5 3 9\n",
      "Page Faults:  5\n"
     ]
    }
   ],
   "source": [
    "capacity = int(input(\"Enter reference window size: \"))\n",
    "pages = input(\"Enter page reference: \").split()\n",
    "s = []\n",
    "pageFaults = 0\n",
    "for i in range(len(pages)): \n",
    "        if pages[i] not in s:\n",
    "            if (len(s)< capacity): \n",
    "                s.append(pages[i])   \n",
    "            else: \n",
    "                for x in range(len(s)):\n",
    "                    if (s[x] not in pages[i+1:]) and i<len(pages):\n",
    "                        s[x] = pages[i]\n",
    "                        break             \n",
    "            pageFaults += 1        \n",
    "print(\"Page Faults: \", pageFaults)"
   ]
  },
  {
   "cell_type": "code",
   "execution_count": null,
   "metadata": {},
   "outputs": [],
   "source": []
  }
 ],
 "metadata": {
  "kernelspec": {
   "display_name": "Python 3",
   "language": "python",
   "name": "python3"
  },
  "language_info": {
   "codemirror_mode": {
    "name": "ipython",
    "version": 3
   },
   "file_extension": ".py",
   "mimetype": "text/x-python",
   "name": "python",
   "nbconvert_exporter": "python",
   "pygments_lexer": "ipython3",
   "version": "3.8.3"
  }
 },
 "nbformat": 4,
 "nbformat_minor": 4
}
